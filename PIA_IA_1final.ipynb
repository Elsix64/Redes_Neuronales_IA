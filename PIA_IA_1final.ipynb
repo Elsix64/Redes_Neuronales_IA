{
  "nbformat": 4,
  "nbformat_minor": 0,
  "metadata": {
    "colab": {
      "provenance": []
    },
    "kernelspec": {
      "name": "python3",
      "display_name": "Python 3"
    },
    "language_info": {
      "name": "python"
    }
  },
  "cells": [
    {
      "cell_type": "code",
      "execution_count": 1,
      "metadata": {
        "id": "WPZ2VkvzU7PQ"
      },
      "outputs": [],
      "source": [
        "# importar librerías \n",
        "import tensorflow as tf\n",
        "from tensorflow import keras\n",
        "import tensorflow as tf\n",
        "from tensorflow.keras import datasets, layers, models\n",
        "import matplotlib.pyplot as plt\n",
        "import cv2\n",
        "import matplotlib.pyplot as plt\n",
        "import numpy as np\n",
        "import matplotlib.pyplot as plt"
      ]
    },
    {
      "cell_type": "code",
      "source": [
        "# Cargar imagen de prueba\n",
        "i=0\n",
        "f=0\n",
        "label=[]\n",
        "# Formato de imagen\n",
        "imagenes_dataset = []\n",
        "etiquetas_dataset = []\n",
        "while(i<300):\n",
        "\n",
        "  file = '/content/'+str(i)+'.png'\n",
        "  test_image = cv2.imread(file, cv2.IMREAD_GRAYSCALE )\n",
        "  img_resized = cv2.resize(test_image, (28,28), )\n",
        "  img_resized = cv2.bitwise_not(img_resized)\n",
        "\n",
        "  # Preview de imagen reformateada\n",
        "  Numeros='/content/'+str(i)+'.png'\n",
        "  plt.imshow(img_resized, cmap='gray')\n",
        "  if(f==9):\n",
        "    imagenes_dataset.append(img_resized)\n",
        "    etiquetas_dataset.append(f)\n",
        "    \n",
        "    f=0\n",
        "  else :\n",
        "    imagenes_dataset.append(img_resized)\n",
        "    etiquetas_dataset.append(f)\n",
        "   \n",
        "    f=f+1\n",
        "  i=i+1\n",
        "\n",
        "0"
      ],
      "metadata": {
        "colab": {
          "base_uri": "https://localhost:8080/",
          "height": 282
        },
        "id": "dCCtJco2VD0S",
        "outputId": "40666e2d-4c7b-4b10-c406-2f5e7ba860eb"
      },
      "execution_count": 2,
      "outputs": [
        {
          "output_type": "execute_result",
          "data": {
            "text/plain": [
              "0"
            ]
          },
          "metadata": {},
          "execution_count": 2
        },
        {
          "output_type": "display_data",
          "data": {
            "text/plain": [
              "<Figure size 432x288 with 1 Axes>"
            ],
            "image/png": "[encoded data removed]"
          },
          "metadata": {
            "needs_background": "light"
          }
        }
      ]
    },
    {
      "cell_type": "code",
      "source": [
        "# para las test\n",
        "i=300\n",
        "f=0\n",
        "imagenestest_dataset = []\n",
        "etiquetastest_dataset = []\n",
        "while(i<500):\n",
        "\n",
        "  file = '/content/'+str(i)+'.png'\n",
        "  test_image = cv2.imread(file, cv2.IMREAD_GRAYSCALE )\n",
        "  img_resized = cv2.resize(test_image, (28,28), )\n",
        "  img_resized = cv2.bitwise_not(img_resized)\n",
        "\n",
        "  # Preview de imagen reformateada\n",
        "  Numeros='/content/'+str(i)+'.png'\n",
        "  plt.imshow(img_resized, cmap='gray')\n",
        "  if(f==9):\n",
        "    imagenestest_dataset.append(img_resized)\n",
        "    etiquetastest_dataset.append(f)\n",
        "    \n",
        "    f=0\n",
        "  else :\n",
        "    imagenestest_dataset.append(img_resized)\n",
        "    etiquetastest_dataset.append(f)\n",
        "   \n",
        "    f=f+1\n",
        "  i=i+1\n"
      ],
      "metadata": {
        "colab": {
          "base_uri": "https://localhost:8080/",
          "height": 265
        },
        "id": "wXpE26HrAw6S",
        "outputId": "f021fbad-a837-43c1-fd3f-ce4a108196fd"
      },
      "execution_count": 3,
      "outputs": [
        {
          "output_type": "display_data",
          "data": {
            "text/plain": [
              "<Figure size 432x288 with 1 Axes>"
            ],
            "image/png": "[encoded data removed]"
          },
          "metadata": {
            "needs_background": "light"
          }
        }
      ]
    },
    {
      "cell_type": "code",
      "source": [
        "plt.figure()\n",
        "plt.imshow(imagenes_dataset[0])\n",
        "plt.colorbar()\n",
        "plt.grid(False)\n",
        "plt.show()"
      ],
      "metadata": {
        "colab": {
          "base_uri": "https://localhost:8080/",
          "height": 265
        },
        "id": "fvMEiqvYS_A8",
        "outputId": "fdfa0a9d-1bb8-4e77-e3df-d9b39e18a8b4"
      },
      "execution_count": 4,
      "outputs": [
        {
          "output_type": "display_data",
          "data": {
            "text/plain": [
              "<Figure size 432x288 with 2 Axes>"
            ],
            "image/png": "[encoded data removed]"
          },
          "metadata": {
            "needs_background": "light"
          }
        }
      ]
    },
    {
      "cell_type": "code",
      "source": [
        "len(etiquetas_dataset)"
      ],
      "metadata": {
        "colab": {
          "base_uri": "https://localhost:8080/"
        },
        "id": "1_oWpWkSsFwA",
        "outputId": "56a2b2a6-32a9-4d55-ada9-4c07b701fb75"
      },
      "execution_count": 5,
      "outputs": [
        {
          "output_type": "execute_result",
          "data": {
            "text/plain": [
              "300"
            ]
          },
          "metadata": {},
          "execution_count": 5
        }
      ]
    },
    {
      "cell_type": "code",
      "source": [
        "plt.figure(figsize=(10,10))\n",
        "for j in range(25):\n",
        "    plt.subplot(5,5,j+1)\n",
        "    plt.xticks([])\n",
        "    plt.yticks([])\n",
        "    plt.grid(False)\n",
        "    plt.imshow(imagenes_dataset[j], cmap=plt.cm.binary)\n",
        "    plt.xlabel(etiquetas_dataset[j])\n",
        "plt.show()"
      ],
      "metadata": {
        "colab": {
          "base_uri": "https://localhost:8080/",
          "height": 589
        },
        "id": "suEAMMNRJ3iG",
        "outputId": "5618b11c-8856-4bcc-8e09-e22c4bb17fa1"
      },
      "execution_count": 6,
      "outputs": [
        {
          "output_type": "display_data",
          "data": {
            "text/plain": [
              "<Figure size 720x720 with 25 Axes>"
            ],
            "image/png": "[encoded data removed]"
          },
          "metadata": {}
        }
      ]
    },
    {
      "cell_type": "code",
      "source": [
        "model = keras.Sequential([\n",
        "    keras.layers.Flatten(input_shape=(28, 28)),\n",
        "    keras.layers.Dense(128, activation='relu'),\n",
        "    keras.layers.Dense(10, activation='softmax')\n",
        "])"
      ],
      "metadata": {
        "id": "cPiGlvPcXPH0"
      },
      "execution_count": 7,
      "outputs": []
    },
    {
      "cell_type": "code",
      "source": [
        "model.compile(optimizer='adam',\n",
        "              loss='sparse_categorical_crossentropy',\n",
        "              metrics=['accuracy'])"
      ],
      "metadata": {
        "id": "kDkKrs1qXQR0"
      },
      "execution_count": 8,
      "outputs": []
    },
    {
      "cell_type": "code",
      "source": [
        "\n",
        "newetiqueta=np.array(etiquetas_dataset)\n",
        "newetiquetatest=np.array(etiquetastest_dataset)\n",
        "imagenesne=np.array(imagenes_dataset)\n",
        "imagenesnetest=np.array(imagenestest_dataset)\n"
      ],
      "metadata": {
        "id": "mLzYEHEy3FHT"
      },
      "execution_count": 9,
      "outputs": []
    },
    {
      "cell_type": "code",
      "source": [
        "newetiqueta.shape"
      ],
      "metadata": {
        "colab": {
          "base_uri": "https://localhost:8080/"
        },
        "id": "VGcpKHCI6FIb",
        "outputId": "fca343ee-d945-4ce5-c507-54eb4d0d0e1c"
      },
      "execution_count": 10,
      "outputs": [
        {
          "output_type": "execute_result",
          "data": {
            "text/plain": [
              "(300,)"
            ]
          },
          "metadata": {},
          "execution_count": 10
        }
      ]
    },
    {
      "cell_type": "code",
      "source": [
        "imagenesne.shape"
      ],
      "metadata": {
        "colab": {
          "base_uri": "https://localhost:8080/"
        },
        "id": "W5D1rLbN6oGD",
        "outputId": "b93f9a8c-d5b5-4f2b-9286-62ee552b466d"
      },
      "execution_count": 11,
      "outputs": [
        {
          "output_type": "execute_result",
          "data": {
            "text/plain": [
              "(300, 28, 28)"
            ]
          },
          "metadata": {},
          "execution_count": 11
        }
      ]
    },
    {
      "cell_type": "code",
      "source": [
        "model.fit(imagenesne, newetiqueta, epochs=10)"
      ],
      "metadata": {
        "colab": {
          "base_uri": "https://localhost:8080/"
        },
        "id": "UvSeMJL5uzvH",
        "outputId": "4f2caa98-0ccc-401a-a80c-ee865bab21bd"
      },
      "execution_count": 12,
      "outputs": [
        {
          "output_type": "stream",
          "name": "stdout",
          "text": [
            "Epoch 1/10\n",
            "10/10 [==============================] - 1s 4ms/step - loss: 79.5716 - accuracy: 0.1633\n",
            "Epoch 2/10\n",
            "10/10 [==============================] - 0s 3ms/step - loss: 19.2950 - accuracy: 0.5667\n",
            "Epoch 3/10\n",
            "10/10 [==============================] - 0s 2ms/step - loss: 8.8974 - accuracy: 0.7300\n",
            "Epoch 4/10\n",
            "10/10 [==============================] - 0s 2ms/step - loss: 2.9990 - accuracy: 0.8767\n",
            "Epoch 5/10\n",
            "10/10 [==============================] - 0s 5ms/step - loss: 1.2213 - accuracy: 0.9267\n",
            "Epoch 6/10\n",
            "10/10 [==============================] - 0s 4ms/step - loss: 0.4426 - accuracy: 0.9667\n",
            "Epoch 7/10\n",
            "10/10 [==============================] - 0s 4ms/step - loss: 0.1700 - accuracy: 0.9800\n",
            "Epoch 8/10\n",
            "10/10 [==============================] - 0s 3ms/step - loss: 0.0651 - accuracy: 0.9900\n",
            "Epoch 9/10\n",
            "10/10 [==============================] - 0s 3ms/step - loss: 0.0065 - accuracy: 0.9967\n",
            "Epoch 10/10\n",
            "10/10 [==============================] - 0s 3ms/step - loss: 0.0026 - accuracy: 1.0000\n"
          ]
        },
        {
          "output_type": "execute_result",
          "data": {
            "text/plain": [
              "<keras.callbacks.History at 0x7f5e73955550>"
            ]
          },
          "metadata": {},
          "execution_count": 12
        }
      ]
    },
    {
      "cell_type": "code",
      "source": [
        "test_loss, test_acc = model.evaluate(imagenesnetest, newetiquetatest, verbose=2)\n",
        "\n",
        "print('\\nTest accuracy:', test_acc)"
      ],
      "metadata": {
        "colab": {
          "base_uri": "https://localhost:8080/"
        },
        "id": "cnRD3DXV_PnU",
        "outputId": "a9dfec59-24fb-4946-f8f5-d5f1d277382b"
      },
      "execution_count": 13,
      "outputs": [
        {
          "output_type": "stream",
          "name": "stdout",
          "text": [
            "7/7 - 0s - loss: 26.8470 - accuracy: 0.4850 - 185ms/epoch - 26ms/step\n",
            "\n",
            "Test accuracy: 0.48500001430511475\n"
          ]
        }
      ]
    },
    {
      "cell_type": "code",
      "source": [
        "predictions = model.predict(imagenesnetest)"
      ],
      "metadata": {
        "colab": {
          "base_uri": "https://localhost:8080/"
        },
        "id": "aVzgk_YPCnUl",
        "outputId": "2c612303-66e8-460b-aa27-f519908e65c2"
      },
      "execution_count": 14,
      "outputs": [
        {
          "output_type": "stream",
          "name": "stdout",
          "text": [
            "7/7 [==============================] - 0s 2ms/step\n"
          ]
        }
      ]
    },
    {
      "cell_type": "code",
      "source": [
        "predictions[0]"
      ],
      "metadata": {
        "colab": {
          "base_uri": "https://localhost:8080/"
        },
        "id": "4JDlE4OKCvSU",
        "outputId": "9d7f2bf8-c8cc-4444-f23b-b40a8b17ac43"
      },
      "execution_count": 15,
      "outputs": [
        {
          "output_type": "execute_result",
          "data": {
            "text/plain": [
              "array([9.9999994e-01, 0.0000000e+00, 4.7594412e-24, 0.0000000e+00,\n",
              "       0.0000000e+00, 0.0000000e+00, 0.0000000e+00, 0.0000000e+00,\n",
              "       0.0000000e+00, 0.0000000e+00], dtype=float32)"
            ]
          },
          "metadata": {},
          "execution_count": 15
        }
      ]
    },
    {
      "cell_type": "code",
      "source": [
        "np.argmax(predictions[0])"
      ],
      "metadata": {
        "colab": {
          "base_uri": "https://localhost:8080/"
        },
        "id": "ZWPiFU4YC2gJ",
        "outputId": "430f1376-b4d2-45ee-d0bc-b4f57a4d5f51"
      },
      "execution_count": 16,
      "outputs": [
        {
          "output_type": "execute_result",
          "data": {
            "text/plain": [
              "0"
            ]
          },
          "metadata": {},
          "execution_count": 16
        }
      ]
    },
    {
      "cell_type": "code",
      "source": [
        "newetiquetatest[0]"
      ],
      "metadata": {
        "colab": {
          "base_uri": "https://localhost:8080/"
        },
        "id": "QWolDDumC8mk",
        "outputId": "686cf2a9-a3a8-49a2-e0da-e383b91fef33"
      },
      "execution_count": 17,
      "outputs": [
        {
          "output_type": "execute_result",
          "data": {
            "text/plain": [
              "0"
            ]
          },
          "metadata": {},
          "execution_count": 17
        }
      ]
    },
    {
      "cell_type": "code",
      "source": [
        "class_names=('0','1','2','3','4','5','6','7','8','9')"
      ],
      "metadata": {
        "id": "hTsPGe4-Eblq"
      },
      "execution_count": 18,
      "outputs": []
    },
    {
      "cell_type": "code",
      "source": [
        "def plot_image(i, predictions_array, true_label, img):\n",
        "  predictions_array, true_label, img = predictions_array, true_label[i], img[i]\n",
        "  plt.grid(False)\n",
        "  plt.xticks([])\n",
        "  plt.yticks([])\n",
        "\n",
        "  plt.imshow(img, cmap=plt.cm.binary)\n",
        "\n",
        "  predicted_label = np.argmax(predictions_array)\n",
        "  if predicted_label == true_label:\n",
        "    color = 'blue'\n",
        "  else:\n",
        "    color = 'red'\n",
        "\n",
        "  plt.xlabel(\"{} {:2.0f}% ({})\".format(class_names[predicted_label],\n",
        "                                100*np.max(predictions_array),\n",
        "                                class_names[true_label]),\n",
        "                                color=color)\n",
        "\n",
        "def plot_value_array(i, predictions_array, true_label):\n",
        "  predictions_array, true_label = predictions_array, true_label[i]\n",
        "  plt.grid(False)\n",
        "  plt.xticks(range(10))\n",
        "  plt.yticks([])\n",
        "  thisplot = plt.bar(range(10), predictions_array, color=\"#777777\")\n",
        "  plt.ylim([0, 1])\n",
        "  predicted_label = np.argmax(predictions_array)\n",
        "\n",
        "  thisplot[predicted_label].set_color('red')\n",
        "  thisplot[true_label].set_color('blue')"
      ],
      "metadata": {
        "id": "NhHEPUcBDGNH"
      },
      "execution_count": 19,
      "outputs": []
    },
    {
      "cell_type": "code",
      "source": [
        "i = 0\n",
        "plt.figure(figsize=(6,3))\n",
        "plt.subplot(1,2,1)\n",
        "plot_image(i, predictions[i], newetiquetatest, imagenesnetest)\n",
        "plt.subplot(1,2,2)\n",
        "plot_value_array(i, predictions[i],  newetiquetatest)\n",
        "plt.show()"
      ],
      "metadata": {
        "colab": {
          "base_uri": "https://localhost:8080/",
          "height": 211
        },
        "id": "mmQkx52pDN9x",
        "outputId": "dd63cbde-5cf6-4b2b-8b16-3624fde3a367"
      },
      "execution_count": 20,
      "outputs": [
        {
          "output_type": "display_data",
          "data": {
            "text/plain": [
              "<Figure size 432x216 with 2 Axes>"
            ],
            "image/png": "[encoded data removed]"
          },
          "metadata": {
            "needs_background": "light"
          }
        }
      ]
    },
    {
      "cell_type": "code",
      "source": [
        "i = 12\n",
        "plt.figure(figsize=(6,3))\n",
        "plt.subplot(1,2,1)\n",
        "plot_image(i, predictions[i], newetiquetatest, imagenesnetest)\n",
        "plt.subplot(1,2,2)\n",
        "plot_value_array(i, predictions[i],  newetiquetatest)\n",
        "plt.show()"
      ],
      "metadata": {
        "colab": {
          "base_uri": "https://localhost:8080/",
          "height": 211
        },
        "id": "JF3uiE8rFIeh",
        "outputId": "a45bf804-1415-4376-86bc-c9a28dc56883"
      },
      "execution_count": 21,
      "outputs": [
        {
          "output_type": "display_data",
          "data": {
            "text/plain": [
              "<Figure size 432x216 with 2 Axes>"
            ],
            "image/png": "[encoded data removed]"
          },
          "metadata": {
            "needs_background": "light"
          }
        }
      ]
    },
    {
      "cell_type": "code",
      "source": [
        "# Plot the first X test images, their predicted labels, and the true labels.\n",
        "# Color correct predictions in blue and incorrect predictions in red.\n",
        "num_rows = 5\n",
        "num_cols = 3\n",
        "num_images = num_rows*num_cols\n",
        "plt.figure(figsize=(2*2*num_cols, 2*num_rows))\n",
        "for i in range(num_images):\n",
        "  plt.subplot(num_rows, 2*num_cols, 2*i+1)\n",
        "  plot_image(i, predictions[i], newetiquetatest, imagenesnetest)\n",
        "  plt.subplot(num_rows, 2*num_cols, 2*i+2)\n",
        "  plot_value_array(i, predictions[i], newetiquetatest)\n",
        "plt.tight_layout()\n",
        "plt.show()"
      ],
      "metadata": {
        "colab": {
          "base_uri": "https://localhost:8080/",
          "height": 729
        },
        "id": "x6ekrKWUFcRT",
        "outputId": "b1be925e-942e-4e82-dd1d-ac5426375251"
      },
      "execution_count": 22,
      "outputs": [
        {
          "output_type": "display_data",
          "data": {
            "text/plain": [
              "<Figure size 864x720 with 30 Axes>"
            ],
            "image/png": "[encoded data removed]"
          },
          "metadata": {
            "needs_background": "light"
          }
        }
      ]
    },
    {
      "cell_type": "code",
      "source": [
        "img = imagenesnetest[1]\n",
        "\n",
        "print(img.shape)"
      ],
      "metadata": {
        "colab": {
          "base_uri": "https://localhost:8080/"
        },
        "id": "6gfM85LEFq8G",
        "outputId": "d329fcc4-83e7-4021-e08f-4ff2d58785a2"
      },
      "execution_count": 23,
      "outputs": [
        {
          "output_type": "stream",
          "name": "stdout",
          "text": [
            "(28, 28)\n"
          ]
        }
      ]
    },
    {
      "cell_type": "code",
      "source": [
        "img = (np.expand_dims(img,0))\n",
        "\n",
        "print(img.shape)"
      ],
      "metadata": {
        "colab": {
          "base_uri": "https://localhost:8080/"
        },
        "id": "TOQ_VMGeFytS",
        "outputId": "cb4a3efd-cc92-42d0-f6ad-135a9a6e640b"
      },
      "execution_count": 24,
      "outputs": [
        {
          "output_type": "stream",
          "name": "stdout",
          "text": [
            "(1, 28, 28)\n"
          ]
        }
      ]
    },
    {
      "cell_type": "code",
      "source": [
        "predictions_single = model.predict(img)\n",
        "\n",
        "print(predictions_single)"
      ],
      "metadata": {
        "colab": {
          "base_uri": "https://localhost:8080/"
        },
        "id": "UpqtBf4EF1-4",
        "outputId": "debb5ccc-9d09-45f8-9d53-45a34a9ce582"
      },
      "execution_count": 25,
      "outputs": [
        {
          "output_type": "stream",
          "name": "stdout",
          "text": [
            "1/1 [==============================] - 0s 23ms/step\n",
            "[[2.5296316e-38 1.1415364e-20 0.0000000e+00 1.0000000e+00 0.0000000e+00\n",
            "  0.0000000e+00 0.0000000e+00 3.8738942e-36 0.0000000e+00 0.0000000e+00]]\n"
          ]
        }
      ]
    },
    {
      "cell_type": "code",
      "source": [
        "plot_value_array(1, predictions_single[0], newetiquetatest)\n",
        "_ = plt.xticks(range(10), class_names, rotation=45)"
      ],
      "metadata": {
        "colab": {
          "base_uri": "https://localhost:8080/",
          "height": 267
        },
        "id": "VVSRAKUMF6w_",
        "outputId": "cd4d9f66-62e5-4269-b031-81ecfda0fd3b"
      },
      "execution_count": 26,
      "outputs": [
        {
          "output_type": "display_data",
          "data": {
            "text/plain": [
              "<Figure size 432x288 with 1 Axes>"
            ],
            "image/png": "[encoded data removed]"
          },
          "metadata": {
            "needs_background": "light"
          }
        }
      ]
    },
    {
      "cell_type": "code",
      "source": [
        "np.argmax(predictions_single[0])"
      ],
      "metadata": {
        "colab": {
          "base_uri": "https://localhost:8080/"
        },
        "id": "O5_c8zbkGCJn",
        "outputId": "02062d91-ee18-4408-ca4e-c8128ff1b775"
      },
      "execution_count": 27,
      "outputs": [
        {
          "output_type": "execute_result",
          "data": {
            "text/plain": [
              "3"
            ]
          },
          "metadata": {},
          "execution_count": 27
        }
      ]
    }
  ]
}