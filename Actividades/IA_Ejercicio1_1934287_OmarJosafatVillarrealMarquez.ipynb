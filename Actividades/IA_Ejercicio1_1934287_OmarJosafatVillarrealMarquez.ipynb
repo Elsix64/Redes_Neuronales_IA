{
  "nbformat": 4,
  "nbformat_minor": 0,
  "metadata": {
    "colab": {
      "provenance": [],
      "collapsed_sections": []
    },
    "kernelspec": {
      "name": "python3",
      "display_name": "Python 3"
    },
    "language_info": {
      "name": "python"
    }
  },
  "cells": [
    {
      "cell_type": "code",
      "source": [
        "\"\"\"\n",
        "A2: Ejercicios en Python 1\n",
        "Omar Josafat Villarreal Márquez 1934287 N1\n",
        "\"\"\""
      ],
      "metadata": {
        "id": "XKkYwiMZ4pkU",
        "colab": {
          "base_uri": "https://localhost:8080/",
          "height": 35
        },
        "outputId": "ecf39aa8-9985-4c2f-b695-62bea7dc1594"
      },
      "execution_count": 18,
      "outputs": [
        {
          "output_type": "execute_result",
          "data": {
            "text/plain": [
              "'\\nA2: Ejercicios en Python 1\\nOmar Josafat Villarreal Márquez 1934287 N1\\n'"
            ],
            "application/vnd.google.colaboratory.intrinsic+json": {
              "type": "string"
            }
          },
          "metadata": {},
          "execution_count": 18
        }
      ]
    },
    {
      "cell_type": "code",
      "execution_count": 145,
      "metadata": {
        "id": "Pnms6egLy4dq",
        "colab": {
          "base_uri": "https://localhost:8080/"
        },
        "outputId": "d0942d82-639f-447b-be28-276a508b3532"
      },
      "outputs": [
        {
          "output_type": "stream",
          "name": "stdout",
          "text": [
            "¿Cual es tu nombre? Omar\n",
            "Bienvenid@ Omar\n"
          ]
        }
      ],
      "source": [
        "t = \"ana\"\n",
        "u = \"juan\"\n",
        "v = \"pedro\"\n",
        "w = \"Ana\"\n",
        "x = \"Juan\"\n",
        "y = \"Pedro\"\n",
        "z = input(\"¿Cual es tu nombre? \")\n",
        "if z == w or z == x or z == y or z == t or z == u or z == v:\n",
        "  print(\"Nombre no admitido\")\n",
        "elif z != w or z != x or z != y:\n",
        "  print(\"Bienvenid@\", z)\n",
        "# ¿que debo hacer para para prevenir que entren los nombres restringidos con la primera letra en minusculas?"
      ]
    },
    {
      "cell_type": "code",
      "source": [
        "def orden():\n",
        "  print(list[-1])\n",
        "  print(list[::-1])\n",
        "  print(list)\n",
        "list = [\"rojo\", \"verde\", \"azul\", \"dorado\"]\n",
        "orden()"
      ],
      "metadata": {
        "id": "KGRiRgjQ-TEH",
        "colab": {
          "base_uri": "https://localhost:8080/"
        },
        "outputId": "7869de3b-8a80-46e7-f004-3b3fd975d3e8"
      },
      "execution_count": 103,
      "outputs": [
        {
          "output_type": "stream",
          "name": "stdout",
          "text": [
            "dorado\n",
            "['dorado', 'azul', 'verde', 'rojo']\n",
            "['rojo', 'verde', 'azul', 'dorado']\n"
          ]
        }
      ]
    },
    {
      "cell_type": "code",
      "source": [
        "def marco(List):\n",
        "  print(\"**********\")\n",
        "  print(\"*  \" + List[0] + \"  *\")\n",
        "  print(\"*  \" + List[1] + \"     *\")\n",
        "  print(\"*  \" + List[2] + \" *\")\n",
        "  print(\"*  \" + List[3] + \"  *\")\n",
        "  print(\"*  \" + List[4] + \"    *\")\n",
        "  print(\"*  \" + List[5] + \"    *\")\n",
        "  print(\"*  \" + List[6] + \" *\")\n",
        "  print(\"**********\")\n",
        "list = (\"Hola\",\"a\",\"todos\",\"esto\",\"es\",\"un\",\"marco\")\n",
        "marco(list)"
      ],
      "metadata": {
        "colab": {
          "base_uri": "https://localhost:8080/"
        },
        "id": "flUwstsJgfY2",
        "outputId": "55c44ce3-07e3-4a0d-b028-cc2d0fc84d29"
      },
      "execution_count": 135,
      "outputs": [
        {
          "output_type": "stream",
          "name": "stdout",
          "text": [
            "**********\n",
            "*  Hola  *\n",
            "*  a     *\n",
            "*  todos *\n",
            "*  esto  *\n",
            "*  es    *\n",
            "*  un    *\n",
            "*  marco *\n",
            "**********\n"
          ]
        }
      ]
    }
  ]
}